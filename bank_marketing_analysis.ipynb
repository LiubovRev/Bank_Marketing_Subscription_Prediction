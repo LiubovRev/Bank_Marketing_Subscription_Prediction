{
 "cells": [
  {
   "cell_type": "markdown",
   "id": "5d5bda75",
   "metadata": {},
   "source": [
    "# Bank Marketing Campaign - Binary Classification Project\n",
    "\n",
    "## Project Overview\n",
    "This project analyzes a Portuguese banking institution's direct marketing campaigns (phone calls) to predict whether a client will subscribe to a term deposit.\n",
    "\n",
    "**Dataset**: `bank-additional-full.csv`  from Kaggle  (link: https://www.kaggle.com/datasets/sahistapatel96/bankadditionalfullcsv)  \n",
    "**Target Variable**: y (yes/no - will client subscribe to term deposit)"
   ]
  },
  {
   "cell_type": "markdown",
   "id": "21910f36",
   "metadata": {},
   "source": [
    "## Imports and Setup"
   ]
  },
  {
   "cell_type": "code",
   "execution_count": 1,
   "id": "41b82d75",
   "metadata": {},
   "outputs": [
    {
     "name": "stderr",
     "output_type": "stream",
     "text": [
      "/home/liubov/.local/lib/python3.10/site-packages/matplotlib/projections/__init__.py:63: UserWarning: Unable to import Axes3D. This may be due to multiple versions of Matplotlib being installed (e.g. as a system package and as a pip package). As a result, the 3D projection is not available.\n",
      "  warnings.warn(\"Unable to import Axes3D. This may be due to multiple versions of \"\n"
     ]
    }
   ],
   "source": [
    "import pandas as pd\n",
    "import numpy as np\n",
    "import matplotlib.pyplot as plt\n",
    "import seaborn as sns\n",
    "import warnings\n",
    "warnings.filterwarnings('ignore')\n",
    "\n",
    "from sklearn.model_selection import train_test_split, RandomizedSearchCV, cross_val_score\n",
    "from sklearn.preprocessing import LabelEncoder, StandardScaler, OneHotEncoder\n",
    "from sklearn.linear_model import LogisticRegression\n",
    "from sklearn.neighbors import KNeighborsClassifier\n",
    "from sklearn.tree import DecisionTreeClassifier\n",
    "from sklearn.ensemble import RandomForestClassifier, GradientBoostingClassifier\n",
    "from sklearn.metrics import classification_report, confusion_matrix, accuracy_score, precision_score, recall_score, f1_score, roc_auc_score\n",
    "from sklearn.compose import ColumnTransformer\n",
    "from sklearn.pipeline import Pipeline\n",
    "\n",
    "import shap\n",
    "from hyperopt import hp, fmin, tpe, STATUS_OK, Trials\n",
    "import xgboost as xgb\n",
    "\n",
    "np.random.seed(42)\n",
    "\n",
    "# Display settings\n",
    "pd.set_option('display.max_columns', None)\n",
    "# plt.style.use('seaborn-deep')"
   ]
  },
  {
   "cell_type": "markdown",
   "id": "c57c515c",
   "metadata": {},
   "source": [
    "## 1. Data Loading and Initial Exploration"
   ]
  },
  {
   "cell_type": "code",
   "execution_count": 2,
   "id": "a91e92d1",
   "metadata": {},
   "outputs": [
    {
     "name": "stdout",
     "output_type": "stream",
     "text": [
      "Dataset shape: (41188, 21)\n",
      "\n",
      "First 5 rows:\n",
      "   age        job  marital    education  default housing loan    contact  \\\n",
      "0   56  housemaid  married     basic.4y       no      no   no  telephone   \n",
      "1   57   services  married  high.school  unknown      no   no  telephone   \n",
      "2   37   services  married  high.school       no     yes   no  telephone   \n",
      "3   40     admin.  married     basic.6y       no      no   no  telephone   \n",
      "4   56   services  married  high.school       no      no  yes  telephone   \n",
      "\n",
      "  month day_of_week  duration  campaign  pdays  previous     poutcome  \\\n",
      "0   may         mon       261         1    999         0  nonexistent   \n",
      "1   may         mon       149         1    999         0  nonexistent   \n",
      "2   may         mon       226         1    999         0  nonexistent   \n",
      "3   may         mon       151         1    999         0  nonexistent   \n",
      "4   may         mon       307         1    999         0  nonexistent   \n",
      "\n",
      "   emp.var.rate  cons.price.idx  cons.conf.idx  euribor3m  nr.employed   y  \n",
      "0           1.1          93.994          -36.4      4.857       5191.0  no  \n",
      "1           1.1          93.994          -36.4      4.857       5191.0  no  \n",
      "2           1.1          93.994          -36.4      4.857       5191.0  no  \n",
      "3           1.1          93.994          -36.4      4.857       5191.0  no  \n",
      "4           1.1          93.994          -36.4      4.857       5191.0  no  \n",
      "==================================================\n",
      "\n",
      "Dataset info:\n",
      "<class 'pandas.core.frame.DataFrame'>\n",
      "RangeIndex: 41188 entries, 0 to 41187\n",
      "Data columns (total 21 columns):\n",
      " #   Column          Non-Null Count  Dtype  \n",
      "---  ------          --------------  -----  \n",
      " 0   age             41188 non-null  int64  \n",
      " 1   job             41188 non-null  object \n",
      " 2   marital         41188 non-null  object \n",
      " 3   education       41188 non-null  object \n",
      " 4   default         41188 non-null  object \n",
      " 5   housing         41188 non-null  object \n",
      " 6   loan            41188 non-null  object \n",
      " 7   contact         41188 non-null  object \n",
      " 8   month           41188 non-null  object \n",
      " 9   day_of_week     41188 non-null  object \n",
      " 10  duration        41188 non-null  int64  \n",
      " 11  campaign        41188 non-null  int64  \n",
      " 12  pdays           41188 non-null  int64  \n",
      " 13  previous        41188 non-null  int64  \n",
      " 14  poutcome        41188 non-null  object \n",
      " 15  emp.var.rate    41188 non-null  float64\n",
      " 16  cons.price.idx  41188 non-null  float64\n",
      " 17  cons.conf.idx   41188 non-null  float64\n",
      " 18  euribor3m       41188 non-null  float64\n",
      " 19  nr.employed     41188 non-null  float64\n",
      " 20  y               41188 non-null  object \n",
      "dtypes: float64(5), int64(5), object(11)\n",
      "memory usage: 6.6+ MB\n",
      "None\n",
      "==================================================\n",
      "\n",
      "Missing values:\n",
      "age               0\n",
      "job               0\n",
      "marital           0\n",
      "education         0\n",
      "default           0\n",
      "housing           0\n",
      "loan              0\n",
      "contact           0\n",
      "month             0\n",
      "day_of_week       0\n",
      "duration          0\n",
      "campaign          0\n",
      "pdays             0\n",
      "previous          0\n",
      "poutcome          0\n",
      "emp.var.rate      0\n",
      "cons.price.idx    0\n",
      "cons.conf.idx     0\n",
      "euribor3m         0\n",
      "nr.employed       0\n",
      "y                 0\n",
      "dtype: int64\n",
      "==================================================\n",
      "\n",
      "Target variable distribution:\n",
      "y\n",
      "no     36548\n",
      "yes     4640\n",
      "Name: count, dtype: int64\n",
      "Target balance: y\n",
      "no     0.887346\n",
      "yes    0.112654\n",
      "Name: proportion, dtype: float64\n"
     ]
    }
   ],
   "source": [
    "df = pd.read_csv('bank-additional-full.csv', delimiter=';')\n",
    "\n",
    "print(f\"Dataset shape: {df.shape}\")\n",
    "print(\"\\nFirst 5 rows:\")\n",
    "print(df.head())\n",
    "print(\"=\"*50)\n",
    "\n",
    "print(\"\\nDataset info:\")\n",
    "print(df.info())\n",
    "print(\"=\"*50)\n",
    "\n",
    "print(\"\\nMissing values:\")\n",
    "print(df.isnull().sum())\n",
    "print(\"=\"*50)\n",
    "\n",
    "print(\"\\nTarget variable distribution:\")\n",
    "print(df['y'].value_counts())\n",
    "print(f\"Target balance: {df['y'].value_counts(normalize=True)}\")"
   ]
  },
  {
   "cell_type": "markdown",
   "id": "cd379472",
   "metadata": {},
   "source": [
    "## 2. Exploratory Data Analysis (EDA)"
   ]
  },
  {
   "cell_type": "code",
   "execution_count": 3,
   "id": "81904c27",
   "metadata": {},
   "outputs": [
    {
     "data": {
      "image/png": "[encoded data removed]",
      "text/plain": [
       "<Figure size 1500x1200 with 4 Axes>"
      ]
     },
     "metadata": {},
     "output_type": "display_data"
    }
   ],
   "source": [
    "fig, axes = plt.subplots(2, 2, figsize=(15, 12))\n",
    "\n",
    "# Target distribution\n",
    "df['y'].value_counts().plot(kind='bar', ax=axes[0,0], title='Target Distribution')\n",
    "axes[0,0].set_ylabel('Count')\n",
    "\n",
    "# Age distribution by target\n",
    "sns.boxplot(data=df, x='y', y='age', ax=axes[0,1])\n",
    "axes[0,1].set_title('Age Distribution by Target')\n",
    "\n",
    "# Job distribution\n",
    "job_target = pd.crosstab(df['job'], df['y'], normalize='index')\n",
    "job_target.plot(kind='bar', ax=axes[1,0], title='Job vs Target (Normalized)')\n",
    "axes[1,0].tick_params(axis='x', rotation=45)\n",
    "\n",
    "# Duration vs Target\n",
    "sns.boxplot(data=df, x='y', y='duration', ax=axes[1,1])\n",
    "axes[1,1].set_title('Call Duration vs Target')\n",
    "\n",
    "plt.tight_layout()\n",
    "plt.show()"
   ]
  },
  {
   "cell_type": "code",
   "execution_count": 4,
   "id": "61878d43",
   "metadata": {
    "scrolled": false
   },
   "outputs": [
    {
     "name": "stdout",
     "output_type": "stream",
     "text": [
      "\n",
      "Correlation with target variable:\n",
      "age: 0.030\n",
      "campaign: -0.066\n",
      "pdays: -0.325\n",
      "previous: 0.230\n",
      "emp.var.rate: -0.298\n",
      "cons.price.idx: -0.136\n",
      "cons.conf.idx: 0.055\n",
      "euribor3m: -0.308\n",
      "nr.employed: -0.355\n",
      "\n",
      "==================================================\n",
      "CATEGORICAL FEATURES ANALYSIS\n",
      "==================================================\n",
      "\n",
      "JOB distribution:\n",
      "y                 no    yes\n",
      "job                        \n",
      "admin.         0.870  0.130\n",
      "blue-collar    0.931  0.069\n",
      "entrepreneur   0.915  0.085\n",
      "housemaid      0.900  0.100\n",
      "management     0.888  0.112\n",
      "retired        0.748  0.252\n",
      "self-employed  0.895  0.105\n",
      "services       0.919  0.081\n",
      "student        0.686  0.314\n",
      "technician     0.892  0.108\n",
      "unemployed     0.858  0.142\n",
      "unknown        0.888  0.112\n",
      "\n",
      "MARITAL distribution:\n",
      "y            no    yes\n",
      "marital               \n",
      "divorced  0.897  0.103\n",
      "married   0.898  0.102\n",
      "single    0.860  0.140\n",
      "unknown   0.850  0.150\n",
      "\n",
      "EDUCATION distribution:\n",
      "y                       no    yes\n",
      "education                        \n",
      "basic.4y             0.898  0.102\n",
      "basic.6y             0.918  0.082\n",
      "basic.9y             0.922  0.078\n",
      "high.school          0.892  0.108\n",
      "illiterate           0.778  0.222\n",
      "professional.course  0.887  0.113\n",
      "university.degree    0.863  0.137\n",
      "unknown              0.855  0.145\n",
      "\n",
      "DEFAULT distribution:\n",
      "y           no    yes\n",
      "default              \n",
      "no       0.871  0.129\n",
      "unknown  0.948  0.052\n",
      "yes      1.000  0.000\n",
      "\n",
      "HOUSING distribution:\n",
      "y           no    yes\n",
      "housing              \n",
      "no       0.891  0.109\n",
      "unknown  0.892  0.108\n",
      "yes      0.884  0.116\n",
      "\n",
      "LOAN distribution:\n",
      "y           no    yes\n",
      "loan                 \n",
      "no       0.887  0.113\n",
      "unknown  0.892  0.108\n",
      "yes      0.891  0.109\n",
      "\n",
      "CONTACT distribution:\n",
      "y             no    yes\n",
      "contact                \n",
      "cellular   0.853  0.147\n",
      "telephone  0.948  0.052\n",
      "\n",
      "MONTH distribution:\n",
      "y         no    yes\n",
      "month              \n",
      "apr    0.795  0.205\n",
      "aug    0.894  0.106\n",
      "dec    0.511  0.489\n",
      "jul    0.910  0.090\n",
      "jun    0.895  0.105\n",
      "mar    0.495  0.505\n",
      "may    0.936  0.064\n",
      "nov    0.899  0.101\n",
      "oct    0.561  0.439\n",
      "sep    0.551  0.449\n",
      "\n",
      "DAY_OF_WEEK distribution:\n",
      "y               no    yes\n",
      "day_of_week              \n",
      "fri          0.892  0.108\n",
      "mon          0.901  0.099\n",
      "thu          0.879  0.121\n",
      "tue          0.882  0.118\n",
      "wed          0.883  0.117\n",
      "\n",
      "POUTCOME distribution:\n",
      "y               no    yes\n",
      "poutcome                 \n",
      "failure      0.858  0.142\n",
      "nonexistent  0.912  0.088\n",
      "success      0.349  0.651\n"
     ]
    }
   ],
   "source": [
    "# Correlation analysis for numerical features\n",
    "numerical_features = ['age', 'campaign', 'pdays', 'previous', 'emp.var.rate', \n",
    "                     'cons.price.idx', 'cons.conf.idx', 'euribor3m', 'nr.employed']\n",
    "\n",
    "print(\"\\nCorrelation with target variable:\")\n",
    "for feature in numerical_features:\n",
    "    # Convert target to numeric for correlation\n",
    "    correlation = df[feature].corr(pd.get_dummies(df['y'])['yes'])\n",
    "    print(f\"{feature}: {correlation:.3f}\")\n",
    "\n",
    "# Categorical features analysis\n",
    "categorical_features = ['job', 'marital', 'education', 'default', 'housing', 'loan', \n",
    "                       'contact', 'month', 'day_of_week', 'poutcome']\n",
    "\n",
    "print(\"\\n\" + \"=\"*50)\n",
    "print(\"CATEGORICAL FEATURES ANALYSIS\")\n",
    "print(\"=\"*50)\n",
    "\n",
    "for feature in categorical_features:\n",
    "    print(f\"\\n{feature.upper()} distribution:\")\n",
    "    crosstab = pd.crosstab(df[feature], df['y'], normalize='index')\n",
    "    print(crosstab.round(3))"
   ]
  },
  {
   "cell_type": "markdown",
   "id": "a8b12a1c",
   "metadata": {},
   "source": [
    "### Hypotheses about Feature Impact:"
   ]
  },
  {
   "cell_type": "markdown",
   "id": "36b9bd5f",
   "metadata": {},
   "source": [
    "1. AGE: Middle-aged clients (30-50) might be more likely to subscribe due to financial stability\n",
    "2. JOB: Management, technician, and retired clients may have higher subscription rates\n",
    "3. EDUCATION: Higher education levels might correlate with better financial awareness and subscription\n",
    "4. DURATION: Longer call duration strongly indicates interest (but note: this shouldn't be in final model)\n",
    "5. CAMPAIGN: Too many contacts in current campaign might decrease subscription probability\n",
    "6. PDAYS: Recent contact from previous campaign might increase subscription likelihood\n",
    "7. POUTCOME: Previous campaign success strongly indicates current campaign success\n",
    "8. MONTH: Certain months might have seasonal effects on subscription rates\n",
    "9. ECONOMIC INDICATORS: Better economic conditions might increase subscription rates\n",
    "10. CONTACT TYPE: Cellular contact might be more effective than telephone"
   ]
  },
  {
   "cell_type": "markdown",
   "id": "17798773",
   "metadata": {},
   "source": [
    "## 3. Methodology and Metrics Selection"
   ]
  },
  {
   "cell_type": "markdown",
   "id": "aec467c7",
   "metadata": {},
   "source": [
    "CHOSEN METRICS:\n",
    "1. PRIMARY: F1-Score - balances precision and recall, important for imbalanced dataset\n",
    "2. SECONDARY: ROC-AUC - measures model's ability to distinguish between classes\n",
    "3. ADDITIONAL: Precision and Recall for business context\n",
    "\n",
    "JUSTIFICATION:\n",
    "- Dataset is imbalanced (more 'no' than 'yes' responses)\n",
    "- False positives (predicting subscription when customer won't subscribe) waste marketing resources\n",
    "- False negatives (missing potential subscribers) lose revenue opportunities\n",
    "- F1-score provides balanced view of both precision and recall\n",
    "- ROC-AUC helps evaluate model's discriminative ability across all thresholds\n",
    "\n",
    "MODELS TO COMPARE:\n",
    "1. Logistic Regression - baseline, interpretable\n",
    "2. k-NN - non-parametric, good for local patterns\n",
    "3. Decision Tree - interpretable, handles non-linear relationships\n",
    "4. Gradient Boosting - ensemble method, typically high performance\n"
   ]
  },
  {
   "cell_type": "markdown",
   "id": "58d2b0da",
   "metadata": {},
   "source": [
    "## 4. Data Preprocessing"
   ]
  },
  {
   "cell_type": "code",
   "execution_count": 5,
   "id": "37651bc4",
   "metadata": {},
   "outputs": [
    {
     "name": "stdout",
     "output_type": "stream",
     "text": [
      "job: 330 unknowns (0.8%)\n",
      "marital: 80 unknowns (0.2%)\n",
      "education: 1731 unknowns (4.2%)\n",
      "default: 8597 unknowns (20.9%)\n",
      "housing: 990 unknowns (2.4%)\n",
      "loan: 990 unknowns (2.4%)\n",
      "contact: 0 unknowns (0.0%)\n",
      "month: 0 unknowns (0.0%)\n",
      "day_of_week: 0 unknowns (0.0%)\n",
      "poutcome: 0 unknowns (0.0%)\n"
     ]
    }
   ],
   "source": [
    "# Create a copy for preprocessing\n",
    "df_processed = df.copy()\n",
    "\n",
    "# Handle 'unknown' values - treat as separate category or group with most similar\n",
    "\n",
    "# For some features, 'unknown' might be informative, for others we might group them\n",
    "# Let's analyze the distribution of unknowns\n",
    "unknown_counts = {}\n",
    "for col in categorical_features:\n",
    "    unknown_count = (df_processed[col] == 'unknown').sum()\n",
    "    unknown_counts[col] = unknown_count\n",
    "    print(f\"{col}: {unknown_count} unknowns ({unknown_count/len(df_processed)*100:.1f}%)\")\n",
    "\n",
    "# Handle pdays (999 means no previous contact)\n",
    "df_processed['pdays_contacted'] = (df_processed['pdays'] != 999).astype(int)\n",
    "df_processed['pdays_clean'] = df_processed['pdays'].replace(999, 0)"
   ]
  },
  {
   "cell_type": "code",
   "execution_count": 6,
   "id": "b9fb284d",
   "metadata": {},
   "outputs": [],
   "source": [
    "# Create additional features\n",
    "# Age groups\n",
    "df_processed['age_group'] = pd.cut(df_processed['age'], \n",
    "                                  bins=[0, 25, 35, 50, 65, 100], \n",
    "                                  labels=['young', 'young_adult', 'middle', 'senior', 'elderly'])"
   ]
  },
  {
   "cell_type": "code",
   "execution_count": 7,
   "id": "e00208bb",
   "metadata": {},
   "outputs": [],
   "source": [
    "# Campaign intensity\n",
    "df_processed['campaign_intensity'] = pd.cut(df_processed['campaign'], \n",
    "                                           bins=[0, 1, 3, 6, float('inf')], \n",
    "                                           labels=['single', 'few', 'several', 'many'])"
   ]
  },
  {
   "cell_type": "code",
   "execution_count": 8,
   "id": "bfc41185",
   "metadata": {},
   "outputs": [],
   "source": [
    "# Combine economic indicators)\n",
    "scaler_temp = StandardScaler()\n",
    "economic_features = ['emp.var.rate', 'cons.price.idx', 'cons.conf.idx', 'euribor3m', 'nr.employed']\n",
    "df_processed['economic_sentiment'] = scaler_temp.fit_transform(df_processed[economic_features]).mean(axis=1)"
   ]
  },
  {
   "cell_type": "code",
   "execution_count": 9,
   "id": "c7e38fe8",
   "metadata": {},
   "outputs": [],
   "source": [
    "# Education grouping (simplify categories)\n",
    "education_mapping = {\n",
    "    'basic.4y': 'basic', 'basic.6y': 'basic', 'basic.9y': 'basic',\n",
    "    'high.school': 'secondary', 'professional.course': 'secondary',\n",
    "    'university.degree': 'higher', 'illiterate': 'basic', 'unknown': 'unknown'\n",
    "}\n",
    "df_processed['education_grouped'] = df_processed['education'].map(education_mapping)"
   ]
  },
  {
   "cell_type": "code",
   "execution_count": 10,
   "id": "e055044e",
   "metadata": {},
   "outputs": [],
   "source": [
    "# Job grouping\n",
    "job_mapping = {\n",
    "    'admin.': 'white_collar', 'management': 'white_collar', 'technician': 'white_collar',\n",
    "    'services': 'services', 'blue-collar': 'blue_collar', 'housemaid': 'services',\n",
    "    'entrepreneur': 'entrepreneur', 'self-employed': 'entrepreneur',\n",
    "    'retired': 'retired', 'student': 'student', 'unemployed': 'unemployed', 'unknown': 'unknown'\n",
    "}\n",
    "df_processed['job_grouped'] = df_processed['job'].map(job_mapping)"
   ]
  },
  {
   "cell_type": "code",
   "execution_count": 11,
   "id": "52c446d9",
   "metadata": {},
   "outputs": [
    {
     "name": "stdout",
     "output_type": "stream",
     "text": [
      "age: 469 outliers (1.1%)\n",
      "campaign: 2406 outliers (5.8%)\n",
      "previous: 5625 outliers (13.7%)\n",
      "duration: 2963 outliers (7.2%)\n",
      "emp.var.rate: 0 outliers (0.0%)\n",
      "cons.price.idx: 0 outliers (0.0%)\n",
      "cons.conf.idx: 447 outliers (1.1%)\n",
      "euribor3m: 0 outliers (0.0%)\n",
      "nr.employed: 0 outliers (0.0%)\n"
     ]
    }
   ],
   "source": [
    "# Outlier detection\n",
    "numerical_cols = ['age', 'campaign', 'previous', 'duration'] + economic_features\n",
    "\n",
    "for col in numerical_cols:\n",
    "    Q1 = df_processed[col].quantile(0.25)\n",
    "    Q3 = df_processed[col].quantile(0.75)\n",
    "    IQR = Q3 - Q1\n",
    "    lower_bound = Q1 - 1.5 * IQR\n",
    "    upper_bound = Q3 + 1.5 * IQR\n",
    "    \n",
    "    outliers = ((df_processed[col] < lower_bound) | (df_processed[col] > upper_bound)).sum()\n",
    "    print(f\"{col}: {outliers} outliers ({outliers/len(df_processed)*100:.1f}%)\")"
   ]
  },
  {
   "cell_type": "code",
   "execution_count": 12,
   "id": "2444de96",
   "metadata": {},
   "outputs": [],
   "source": [
    "# For this project, we'll keep outliers as they might be meaningful\n",
    "# (e.g., very long calls might indicate high interest)"
   ]
  },
  {
   "cell_type": "markdown",
   "id": "ad137a24",
   "metadata": {},
   "source": [
    "## 5. Model Training and Evaluation"
   ]
  },
  {
   "cell_type": "code",
   "execution_count": 13,
   "id": "eb4f1712",
   "metadata": {},
   "outputs": [],
   "source": [
    "# Prepare features for modeling\n",
    "# IMPORTANT: Exclude 'duration' as mentioned in the assignment\n",
    "features_to_exclude = ['duration', 'y']  # duration shouldn't be in final model"
   ]
  },
  {
   "cell_type": "code",
   "execution_count": 14,
   "id": "703f97d2",
   "metadata": {},
   "outputs": [],
   "source": [
    "# Select features for modeling\n",
    "numerical_features_final = ['age', 'campaign', 'pdays_clean', 'previous', 'pdays_contacted',\n",
    "                           'emp.var.rate', 'cons.price.idx', 'cons.conf.idx', 'euribor3m', \n",
    "                           'nr.employed', 'economic_sentiment']\n",
    "\n",
    "categorical_features_final = ['job_grouped', 'marital', 'education_grouped', 'default', \n",
    "                             'housing', 'loan', 'contact', 'month', 'day_of_week', \n",
    "                             'poutcome', 'age_group', 'campaign_intensity']"
   ]
  },
  {
   "cell_type": "code",
   "execution_count": 15,
   "id": "9e7b89af",
   "metadata": {},
   "outputs": [
    {
     "name": "stdout",
     "output_type": "stream",
     "text": [
      "Training set: (26360, 23)\n",
      "Validation set: (6590, 23)\n",
      "Test set: (8238, 23)\n"
     ]
    }
   ],
   "source": [
    "# Prepare X and y\n",
    "X = df_processed[numerical_features_final + categorical_features_final]\n",
    "y = (df_processed['y'] == 'yes').astype(int)  # Convert to binary\n",
    "\n",
    "# Train-test split\n",
    "X_train, X_test, y_train, y_test = train_test_split(X, y, test_size=0.2, random_state=42, stratify=y)\n",
    "X_train, X_val, y_train, y_val = train_test_split(X_train, y_train, test_size=0.2, random_state=42, stratify=y_train)\n",
    "\n",
    "print(f\"Training set: {X_train.shape}\")\n",
    "print(f\"Validation set: {X_val.shape}\")\n",
    "print(f\"Test set: {X_test.shape}\")"
   ]
  },
  {
   "cell_type": "code",
   "execution_count": 16,
   "id": "3fb991fc",
   "metadata": {},
   "outputs": [],
   "source": [
    "# Create preprocessing pipeline\n",
    "preprocessor = ColumnTransformer(\n",
    "    transformers=[\n",
    "        ('num', StandardScaler(), numerical_features_final),\n",
    "        ('cat', OneHotEncoder(handle_unknown='ignore', sparse_output=False), categorical_features_final)\n",
    "    ])"
   ]
  },
  {
   "cell_type": "code",
   "execution_count": 17,
   "id": "95cdbe6f",
   "metadata": {},
   "outputs": [],
   "source": [
    "# Function to evaluate models\n",
    "def evaluate_model(model, X_train, X_val, y_train, y_val, model_name):\n",
    "    # Fit the model\n",
    "    model.fit(X_train, y_train)\n",
    "    \n",
    "    # Predictions\n",
    "    train_pred = model.predict(X_train)\n",
    "    val_pred = model.predict(X_val)\n",
    "    \n",
    "    # Probabilities for AUC\n",
    "    if hasattr(model, 'predict_proba'):\n",
    "        train_proba = model.predict_proba(X_train)[:, 1]\n",
    "        val_proba = model.predict_proba(X_val)[:, 1]\n",
    "    else:\n",
    "        train_proba = train_pred\n",
    "        val_proba = val_pred\n",
    "    \n",
    "    # Calculate metrics\n",
    "    train_metrics = {\n",
    "        'accuracy': accuracy_score(y_train, train_pred),\n",
    "        'precision': precision_score(y_train, train_pred),\n",
    "        'recall': recall_score(y_train, train_pred),\n",
    "        'f1': f1_score(y_train, train_pred),\n",
    "        'auc': roc_auc_score(y_train, train_proba)\n",
    "    }\n",
    "    \n",
    "    val_metrics = {\n",
    "        'accuracy': accuracy_score(y_val, val_pred),\n",
    "        'precision': precision_score(y_val, val_pred),\n",
    "        'recall': recall_score(y_val, val_pred),\n",
    "        'f1': f1_score(y_val, val_pred),\n",
    "        'auc': roc_auc_score(y_val, val_proba)\n",
    "    }\n",
    "    \n",
    "    return train_metrics, val_metrics"
   ]
  },
  {
   "cell_type": "markdown",
   "id": "616bca06",
   "metadata": {},
   "source": [
    "# 1. Logistic Regression"
   ]
  },
  {
   "cell_type": "code",
   "execution_count": 18,
   "id": "763f906a",
   "metadata": {},
   "outputs": [],
   "source": [
    "results = []\n",
    "\n",
    "lr_pipeline = Pipeline([\n",
    "    ('preprocessor', preprocessor),\n",
    "    ('classifier', LogisticRegression(random_state=42, max_iter=1000))\n",
    "])"
   ]
  },
  {
   "cell_type": "code",
   "execution_count": 19,
   "id": "4e588846",
   "metadata": {},
   "outputs": [],
   "source": [
    "train_metrics, val_metrics = evaluate_model(lr_pipeline, X_train, X_val, y_train, y_val, 'Logistic Regression')\n",
    "results.append({\n",
    "    'Model': 'Logistic Regression',\n",
    "    'Hyperparameters': 'default (C=1.0, max_iter=1000)',\n",
    "    'Train_F1': f\"{train_metrics['f1']:.4f}\",\n",
    "    'Val_F1': f\"{val_metrics['f1']:.4f}\",\n",
    "    'Train_AUC': f\"{train_metrics['auc']:.4f}\",\n",
    "    'Val_AUC': f\"{val_metrics['auc']:.4f}\"\n",
    "})"
   ]
  },
  {
   "cell_type": "code",
   "execution_count": 23,
   "id": "af36e269",
   "metadata": {},
   "outputs": [
    {
     "name": "stdout",
     "output_type": "stream",
     "text": [
      "[{'Model': 'Logistic Regression', 'Hyperparameters': 'default (C=1.0, max_iter=1000)', 'Train_F1': '0.3390', 'Val_F1': '0.3411', 'Train_AUC': '0.7923', 'Val_AUC': '0.7969', 'Comment': 'Good baseline model, interpretable, moderate performance'}]\n"
     ]
    }
   ],
   "source": [
    "print(results)"
   ]
  },
  {
   "cell_type": "markdown",
   "id": "3114d8fa",
   "metadata": {},
   "source": [
    "### Conclusion\n",
    "Logistic Regression shows good discrimination (AUC ≈ 0.79) but poor F1 (≈ 0.34), indicating the need for threshold tuning or class imbalance handling."
   ]
  },
  {
   "cell_type": "markdown",
   "id": "d051c218",
   "metadata": {},
   "source": [
    "# 2. k-NN"
   ]
  },
  {
   "cell_type": "code",
   "execution_count": 27,
   "id": "c328299f",
   "metadata": {},
   "outputs": [
    {
     "name": "stdout",
     "output_type": "stream",
     "text": [
      "Using subset of 5000 samples for k-NN training\n"
     ]
    }
   ],
   "source": [
    "# k-NN (Optimized for speed)\n",
    "# Use a subset of data for k-NN to speed up training and prediction\n",
    "\n",
    "subset_size = min(5000, len(X_train))  # Use max 5000 samples\n",
    "subset_indices = np.random.choice(len(X_train), subset_size, replace=False)\n",
    "X_train_subset = X_train.iloc[subset_indices]\n",
    "y_train_subset = y_train.iloc[subset_indices]\n",
    "\n",
    "print(f\"Using subset of {subset_size} samples for k-NN training\")"
   ]
  },
  {
   "cell_type": "code",
   "execution_count": 28,
   "id": "480748e9",
   "metadata": {},
   "outputs": [],
   "source": [
    "# Use algorithm='ball_tree' for better performance with high-dimensional data\n",
    "knn_pipeline = Pipeline([\n",
    "    ('preprocessor', preprocessor),\n",
    "    ('classifier', KNeighborsClassifier(\n",
    "        n_neighbors=5, \n",
    "        algorithm='ball_tree',  # More efficient for high-dimensional data\n",
    "        metric='manhattan',     # Often faster than euclidean\n",
    "        n_jobs=-1              # Use all available cores\n",
    "    ))\n",
    "])"
   ]
  },
  {
   "cell_type": "code",
   "execution_count": 29,
   "id": "2dd5b37c",
   "metadata": {},
   "outputs": [
    {
     "data": {
      "text/html": [
       "<style>#sk-container-id-1 {color: black;}#sk-container-id-1 pre{padding: 0;}#sk-container-id-1 div.sk-toggleable {background-color: white;}#sk-container-id-1 label.sk-toggleable__label {cursor: pointer;display: block;width: 100%;margin-bottom: 0;padding: 0.3em;box-sizing: border-box;text-align: center;}#sk-container-id-1 label.sk-toggleable__label-arrow:before {content: \"▸\";float: left;margin-right: 0.25em;color: #696969;}#sk-container-id-1 label.sk-toggleable__label-arrow:hover:before {color: black;}#sk-container-id-1 div.sk-estimator:hover label.sk-toggleable__label-arrow:before {color: black;}#sk-container-id-1 div.sk-toggleable__content {max-height: 0;max-width: 0;overflow: hidden;text-align: left;background-color: #f0f8ff;}#sk-container-id-1 div.sk-toggleable__content pre {margin: 0.2em;color: black;border-radius: 0.25em;background-color: #f0f8ff;}#sk-container-id-1 input.sk-toggleable__control:checked~div.sk-toggleable__content {max-height: 200px;max-width: 100%;overflow: auto;}#sk-container-id-1 input.sk-toggleable__control:checked~label.sk-toggleable__label-arrow:before {content: \"▾\";}#sk-container-id-1 div.sk-estimator input.sk-toggleable__control:checked~label.sk-toggleable__label {background-color: #d4ebff;}#sk-container-id-1 div.sk-label input.sk-toggleable__control:checked~label.sk-toggleable__label {background-color: #d4ebff;}#sk-container-id-1 input.sk-hidden--visually {border: 0;clip: rect(1px 1px 1px 1px);clip: rect(1px, 1px, 1px, 1px);height: 1px;margin: -1px;overflow: hidden;padding: 0;position: absolute;width: 1px;}#sk-container-id-1 div.sk-estimator {font-family: monospace;background-color: #f0f8ff;border: 1px dotted black;border-radius: 0.25em;box-sizing: border-box;margin-bottom: 0.5em;}#sk-container-id-1 div.sk-estimator:hover {background-color: #d4ebff;}#sk-container-id-1 div.sk-parallel-item::after {content: \"\";width: 100%;border-bottom: 1px solid gray;flex-grow: 1;}#sk-container-id-1 div.sk-label:hover label.sk-toggleable__label {background-color: #d4ebff;}#sk-container-id-1 div.sk-serial::before {content: \"\";position: absolute;border-left: 1px solid gray;box-sizing: border-box;top: 0;bottom: 0;left: 50%;z-index: 0;}#sk-container-id-1 div.sk-serial {display: flex;flex-direction: column;align-items: center;background-color: white;padding-right: 0.2em;padding-left: 0.2em;position: relative;}#sk-container-id-1 div.sk-item {position: relative;z-index: 1;}#sk-container-id-1 div.sk-parallel {display: flex;align-items: stretch;justify-content: center;background-color: white;position: relative;}#sk-container-id-1 div.sk-item::before, #sk-container-id-1 div.sk-parallel-item::before {content: \"\";position: absolute;border-left: 1px solid gray;box-sizing: border-box;top: 0;bottom: 0;left: 50%;z-index: -1;}#sk-container-id-1 div.sk-parallel-item {display: flex;flex-direction: column;z-index: 1;position: relative;background-color: white;}#sk-container-id-1 div.sk-parallel-item:first-child::after {align-self: flex-end;width: 50%;}#sk-container-id-1 div.sk-parallel-item:last-child::after {align-self: flex-start;width: 50%;}#sk-container-id-1 div.sk-parallel-item:only-child::after {width: 0;}#sk-container-id-1 div.sk-dashed-wrapped {border: 1px dashed gray;margin: 0 0.4em 0.5em 0.4em;box-sizing: border-box;padding-bottom: 0.4em;background-color: white;}#sk-container-id-1 div.sk-label label {font-family: monospace;font-weight: bold;display: inline-block;line-height: 1.2em;}#sk-container-id-1 div.sk-label-container {text-align: center;}#sk-container-id-1 div.sk-container {/* jupyter's `normalize.less` sets `[hidden] { display: none; }` but bootstrap.min.css set `[hidden] { display: none !important; }` so we also need the `!important` here to be able to override the default hidden behavior on the sphinx rendered scikit-learn.org. See: https://github.com/scikit-learn/scikit-learn/issues/21755 */display: inline-block !important;position: relative;}#sk-container-id-1 div.sk-text-repr-fallback {display: none;}</style><div id=\"sk-container-id-1\" class=\"sk-top-container\"><div class=\"sk-text-repr-fallback\"><pre>Pipeline(steps=[(&#x27;preprocessor&#x27;,\n",
       "                 ColumnTransformer(transformers=[(&#x27;num&#x27;, StandardScaler(),\n",
       "                                                  [&#x27;age&#x27;, &#x27;campaign&#x27;,\n",
       "                                                   &#x27;pdays_clean&#x27;, &#x27;previous&#x27;,\n",
       "                                                   &#x27;pdays_contacted&#x27;,\n",
       "                                                   &#x27;emp.var.rate&#x27;,\n",
       "                                                   &#x27;cons.price.idx&#x27;,\n",
       "                                                   &#x27;cons.conf.idx&#x27;, &#x27;euribor3m&#x27;,\n",
       "                                                   &#x27;nr.employed&#x27;,\n",
       "                                                   &#x27;economic_sentiment&#x27;]),\n",
       "                                                 (&#x27;cat&#x27;,\n",
       "                                                  OneHotEncoder(handle_unknown=&#x27;ignore&#x27;,\n",
       "                                                                sparse_output=False),\n",
       "                                                  [&#x27;job_grouped&#x27;, &#x27;marital&#x27;,\n",
       "                                                   &#x27;education_grouped&#x27;,\n",
       "                                                   &#x27;default&#x27;, &#x27;housing&#x27;, &#x27;loan&#x27;,\n",
       "                                                   &#x27;contact&#x27;, &#x27;month&#x27;,\n",
       "                                                   &#x27;day_of_week&#x27;, &#x27;poutcome&#x27;,\n",
       "                                                   &#x27;age_group&#x27;,\n",
       "                                                   &#x27;campaign_intensity&#x27;])])),\n",
       "                (&#x27;classifier&#x27;,\n",
       "                 KNeighborsClassifier(algorithm=&#x27;ball_tree&#x27;, metric=&#x27;manhattan&#x27;,\n",
       "                                      n_jobs=-1))])</pre><b>In a Jupyter environment, please rerun this cell to show the HTML representation or trust the notebook. <br />On GitHub, the HTML representation is unable to render, please try loading this page with nbviewer.org.</b></div><div class=\"sk-container\" hidden><div class=\"sk-item sk-dashed-wrapped\"><div class=\"sk-label-container\"><div class=\"sk-label sk-toggleable\"><input class=\"sk-toggleable__control sk-hidden--visually\" id=\"sk-estimator-id-1\" type=\"checkbox\" ><label for=\"sk-estimator-id-1\" class=\"sk-toggleable__label sk-toggleable__label-arrow\">Pipeline</label><div class=\"sk-toggleable__content\"><pre>Pipeline(steps=[(&#x27;preprocessor&#x27;,\n",
       "                 ColumnTransformer(transformers=[(&#x27;num&#x27;, StandardScaler(),\n",
       "                                                  [&#x27;age&#x27;, &#x27;campaign&#x27;,\n",
       "                                                   &#x27;pdays_clean&#x27;, &#x27;previous&#x27;,\n",
       "                                                   &#x27;pdays_contacted&#x27;,\n",
       "                                                   &#x27;emp.var.rate&#x27;,\n",
       "                                                   &#x27;cons.price.idx&#x27;,\n",
       "                                                   &#x27;cons.conf.idx&#x27;, &#x27;euribor3m&#x27;,\n",
       "                                                   &#x27;nr.employed&#x27;,\n",
       "                                                   &#x27;economic_sentiment&#x27;]),\n",
       "                                                 (&#x27;cat&#x27;,\n",
       "                                                  OneHotEncoder(handle_unknown=&#x27;ignore&#x27;,\n",
       "                                                                sparse_output=False),\n",
       "                                                  [&#x27;job_grouped&#x27;, &#x27;marital&#x27;,\n",
       "                                                   &#x27;education_grouped&#x27;,\n",
       "                                                   &#x27;default&#x27;, &#x27;housing&#x27;, &#x27;loan&#x27;,\n",
       "                                                   &#x27;contact&#x27;, &#x27;month&#x27;,\n",
       "                                                   &#x27;day_of_week&#x27;, &#x27;poutcome&#x27;,\n",
       "                                                   &#x27;age_group&#x27;,\n",
       "                                                   &#x27;campaign_intensity&#x27;])])),\n",
       "                (&#x27;classifier&#x27;,\n",
       "                 KNeighborsClassifier(algorithm=&#x27;ball_tree&#x27;, metric=&#x27;manhattan&#x27;,\n",
       "                                      n_jobs=-1))])</pre></div></div></div><div class=\"sk-serial\"><div class=\"sk-item sk-dashed-wrapped\"><div class=\"sk-label-container\"><div class=\"sk-label sk-toggleable\"><input class=\"sk-toggleable__control sk-hidden--visually\" id=\"sk-estimator-id-2\" type=\"checkbox\" ><label for=\"sk-estimator-id-2\" class=\"sk-toggleable__label sk-toggleable__label-arrow\">preprocessor: ColumnTransformer</label><div class=\"sk-toggleable__content\"><pre>ColumnTransformer(transformers=[(&#x27;num&#x27;, StandardScaler(),\n",
       "                                 [&#x27;age&#x27;, &#x27;campaign&#x27;, &#x27;pdays_clean&#x27;, &#x27;previous&#x27;,\n",
       "                                  &#x27;pdays_contacted&#x27;, &#x27;emp.var.rate&#x27;,\n",
       "                                  &#x27;cons.price.idx&#x27;, &#x27;cons.conf.idx&#x27;,\n",
       "                                  &#x27;euribor3m&#x27;, &#x27;nr.employed&#x27;,\n",
       "                                  &#x27;economic_sentiment&#x27;]),\n",
       "                                (&#x27;cat&#x27;,\n",
       "                                 OneHotEncoder(handle_unknown=&#x27;ignore&#x27;,\n",
       "                                               sparse_output=False),\n",
       "                                 [&#x27;job_grouped&#x27;, &#x27;marital&#x27;, &#x27;education_grouped&#x27;,\n",
       "                                  &#x27;default&#x27;, &#x27;housing&#x27;, &#x27;loan&#x27;, &#x27;contact&#x27;,\n",
       "                                  &#x27;month&#x27;, &#x27;day_of_week&#x27;, &#x27;poutcome&#x27;,\n",
       "                                  &#x27;age_group&#x27;, &#x27;campaign_intensity&#x27;])])</pre></div></div></div><div class=\"sk-parallel\"><div class=\"sk-parallel-item\"><div class=\"sk-item\"><div class=\"sk-label-container\"><div class=\"sk-label sk-toggleable\"><input class=\"sk-toggleable__control sk-hidden--visually\" id=\"sk-estimator-id-3\" type=\"checkbox\" ><label for=\"sk-estimator-id-3\" class=\"sk-toggleable__label sk-toggleable__label-arrow\">num</label><div class=\"sk-toggleable__content\"><pre>[&#x27;age&#x27;, &#x27;campaign&#x27;, &#x27;pdays_clean&#x27;, &#x27;previous&#x27;, &#x27;pdays_contacted&#x27;, &#x27;emp.var.rate&#x27;, &#x27;cons.price.idx&#x27;, &#x27;cons.conf.idx&#x27;, &#x27;euribor3m&#x27;, &#x27;nr.employed&#x27;, &#x27;economic_sentiment&#x27;]</pre></div></div></div><div class=\"sk-serial\"><div class=\"sk-item\"><div class=\"sk-estimator sk-toggleable\"><input class=\"sk-toggleable__control sk-hidden--visually\" id=\"sk-estimator-id-4\" type=\"checkbox\" ><label for=\"sk-estimator-id-4\" class=\"sk-toggleable__label sk-toggleable__label-arrow\">StandardScaler</label><div class=\"sk-toggleable__content\"><pre>StandardScaler()</pre></div></div></div></div></div></div><div class=\"sk-parallel-item\"><div class=\"sk-item\"><div class=\"sk-label-container\"><div class=\"sk-label sk-toggleable\"><input class=\"sk-toggleable__control sk-hidden--visually\" id=\"sk-estimator-id-5\" type=\"checkbox\" ><label for=\"sk-estimator-id-5\" class=\"sk-toggleable__label sk-toggleable__label-arrow\">cat</label><div class=\"sk-toggleable__content\"><pre>[&#x27;job_grouped&#x27;, &#x27;marital&#x27;, &#x27;education_grouped&#x27;, &#x27;default&#x27;, &#x27;housing&#x27;, &#x27;loan&#x27;, &#x27;contact&#x27;, &#x27;month&#x27;, &#x27;day_of_week&#x27;, &#x27;poutcome&#x27;, &#x27;age_group&#x27;, &#x27;campaign_intensity&#x27;]</pre></div></div></div><div class=\"sk-serial\"><div class=\"sk-item\"><div class=\"sk-estimator sk-toggleable\"><input class=\"sk-toggleable__control sk-hidden--visually\" id=\"sk-estimator-id-6\" type=\"checkbox\" ><label for=\"sk-estimator-id-6\" class=\"sk-toggleable__label sk-toggleable__label-arrow\">OneHotEncoder</label><div class=\"sk-toggleable__content\"><pre>OneHotEncoder(handle_unknown=&#x27;ignore&#x27;, sparse_output=False)</pre></div></div></div></div></div></div></div></div><div class=\"sk-item\"><div class=\"sk-estimator sk-toggleable\"><input class=\"sk-toggleable__control sk-hidden--visually\" id=\"sk-estimator-id-7\" type=\"checkbox\" ><label for=\"sk-estimator-id-7\" class=\"sk-toggleable__label sk-toggleable__label-arrow\">KNeighborsClassifier</label><div class=\"sk-toggleable__content\"><pre>KNeighborsClassifier(algorithm=&#x27;ball_tree&#x27;, metric=&#x27;manhattan&#x27;, n_jobs=-1)</pre></div></div></div></div></div></div></div>"
      ],
      "text/plain": [
       "Pipeline(steps=[('preprocessor',\n",
       "                 ColumnTransformer(transformers=[('num', StandardScaler(),\n",
       "                                                  ['age', 'campaign',\n",
       "                                                   'pdays_clean', 'previous',\n",
       "                                                   'pdays_contacted',\n",
       "                                                   'emp.var.rate',\n",
       "                                                   'cons.price.idx',\n",
       "                                                   'cons.conf.idx', 'euribor3m',\n",
       "                                                   'nr.employed',\n",
       "                                                   'economic_sentiment']),\n",
       "                                                 ('cat',\n",
       "                                                  OneHotEncoder(handle_unknown='ignore',\n",
       "                                                                sparse_output=False),\n",
       "                                                  ['job_grouped', 'marital',\n",
       "                                                   'education_grouped',\n",
       "                                                   'default', 'housing', 'loan',\n",
       "                                                   'contact', 'month',\n",
       "                                                   'day_of_week', 'poutcome',\n",
       "                                                   'age_group',\n",
       "                                                   'campaign_intensity'])])),\n",
       "                ('classifier',\n",
       "                 KNeighborsClassifier(algorithm='ball_tree', metric='manhattan',\n",
       "                                      n_jobs=-1))])"
      ]
     },
     "execution_count": 29,
     "metadata": {},
     "output_type": "execute_result"
    }
   ],
   "source": [
    "# Train on subset, evaluate on full validation set\n",
    "knn_pipeline.fit(X_train_subset, y_train_subset)"
   ]
  },
  {
   "cell_type": "code",
   "execution_count": 30,
   "id": "ece77149",
   "metadata": {},
   "outputs": [],
   "source": [
    "# Evaluate on subset for training metrics (to be fair)\n",
    "train_pred_subset = knn_pipeline.predict(X_train_subset)\n",
    "val_pred = knn_pipeline.predict(X_val)\n",
    "\n",
    "# Get probabilities\n",
    "train_proba_subset = knn_pipeline.predict_proba(X_train_subset)[:, 1]\n",
    "val_proba = knn_pipeline.predict_proba(X_val)[:, 1]"
   ]
  },
  {
   "cell_type": "code",
   "execution_count": 32,
   "id": "3ff678a5",
   "metadata": {},
   "outputs": [],
   "source": [
    "# Calculate metrics\n",
    "train_metrics = {\n",
    "    'accuracy': accuracy_score(y_train_subset, train_pred_subset),\n",
    "    'precision': precision_score(y_train_subset, train_pred_subset),\n",
    "    'recall': recall_score(y_train_subset, train_pred_subset),\n",
    "    'f1': f1_score(y_train_subset, train_pred_subset),\n",
    "    'auc': roc_auc_score(y_train_subset, train_proba_subset)\n",
    "}\n",
    "\n",
    "val_metrics = {\n",
    "    'accuracy': accuracy_score(y_val, val_pred),\n",
    "    'precision': precision_score(y_val, val_pred),\n",
    "    'recall': recall_score(y_val, val_pred),\n",
    "    'f1': f1_score(y_val, val_pred),\n",
    "    'auc': roc_auc_score(y_val, val_proba)\n",
    "}\n",
    "\n",
    "results.append({\n",
    "    'Model': 'k-NN (Optimized)',\n",
    "    'Hyperparameters': f'n_neighbors=5, algorithm=ball_tree, subset_size={subset_size}',\n",
    "    'Train_F1': f\"{train_metrics['f1']:.4f}\",\n",
    "    'Val_F1': f\"{val_metrics['f1']:.4f}\",\n",
    "    'Train_AUC': f\"{train_metrics['auc']:.4f}\",\n",
    "    'Val_AUC': f\"{val_metrics['auc']:.4f}\",\n",
    "    'Comment': f'{subset_size} training samples, ball_tree algorithm'\n",
    "})"
   ]
  },
  {
   "cell_type": "code",
   "execution_count": 34,
   "id": "513b36ad",
   "metadata": {},
   "outputs": [
    {
     "name": "stdout",
     "output_type": "stream",
     "text": [
      "{'Model': 'k-NN (Optimized)', 'Hyperparameters': 'n_neighbors=5, algorithm=ball_tree, subset_size=5000', 'Train_F1': '0.4549', 'Val_F1': '0.3447', 'Train_AUC': '0.9202', 'Val_AUC': '0.7198', 'Comment': 'Optimized k-NN using 5000 training samples, ball_tree algorithm'}\n"
     ]
    }
   ],
   "source": [
    "print(results[1])"
   ]
  },
  {
   "cell_type": "markdown",
   "id": "1d12ace8",
   "metadata": {},
   "source": [
    "### Conclusion\n",
    "k-NN (Optimized) achieves high Train F1 (0.455) and AUC (0.920) but drops sharply on validation (F1 = 0.345, AUC = 0.720), indicating strong overfitting despite optimization; model struggles to generalize beyond the training subset."
   ]
  },
  {
   "cell_type": "markdown",
   "id": "b370f434",
   "metadata": {},
   "source": [
    "# 3. Decision Tree"
   ]
  },
  {
   "cell_type": "code",
   "execution_count": 35,
   "id": "51d37467",
   "metadata": {},
   "outputs": [],
   "source": [
    "dt_pipeline = Pipeline([\n",
    "    ('preprocessor', preprocessor),\n",
    "    ('classifier', DecisionTreeClassifier(random_state=42, max_depth=10))\n",
    "])"
   ]
  },
  {
   "cell_type": "code",
   "execution_count": 36,
   "id": "a12413f5",
   "metadata": {},
   "outputs": [],
   "source": [
    "train_metrics, val_metrics = evaluate_model(dt_pipeline, X_train, X_val, y_train, y_val, 'Decision Tree')\n",
    "results.append({\n",
    "    'Model': 'Decision Tree',\n",
    "    'Hyperparameters': 'max_depth=10, random_state=42',\n",
    "    'Train_F1': f\"{train_metrics['f1']:.4f}\",\n",
    "    'Val_F1': f\"{val_metrics['f1']:.4f}\",\n",
    "    'Train_AUC': f\"{train_metrics['auc']:.4f}\",\n",
    "    'Val_AUC': f\"{val_metrics['auc']:.4f}\"\n",
    "})"
   ]
  },
  {
   "cell_type": "code",
   "execution_count": 38,
   "id": "2fc22024",
   "metadata": {},
   "outputs": [
    {
     "name": "stdout",
     "output_type": "stream",
     "text": [
      "{'Model': 'Decision Tree', 'Hyperparameters': 'max_depth=10, random_state=42', 'Train_F1': '0.5085', 'Val_F1': '0.3569', 'Train_AUC': '0.8341', 'Val_AUC': '0.7535'}\n"
     ]
    }
   ],
   "source": [
    "print(results[2])"
   ]
  },
  {
   "cell_type": "markdown",
   "id": "e17da0cd",
   "metadata": {},
   "source": [
    "### Conclusion \n",
    "Decision Tree with depth=10 shows higher Train F1/AUC (0.509 / 0.834) than Validation (0.357 / 0.754), suggesting moderate overfitting; generalization is better than k-NN but still limited."
   ]
  },
  {
   "cell_type": "markdown",
   "id": "cc27de07",
   "metadata": {},
   "source": [
    "# 4. Gradient Boosting"
   ]
  },
  {
   "cell_type": "code",
   "execution_count": 39,
   "id": "b60e27f5",
   "metadata": {},
   "outputs": [],
   "source": [
    "gb_pipeline = Pipeline([\n",
    "    ('preprocessor', preprocessor),\n",
    "    ('classifier', GradientBoostingClassifier(random_state=42, n_estimators=100))\n",
    "])"
   ]
  },
  {
   "cell_type": "code",
   "execution_count": 40,
   "id": "09be78f9",
   "metadata": {},
   "outputs": [],
   "source": [
    "train_metrics, val_metrics = evaluate_model(gb_pipeline, X_train, X_val, y_train, y_val, 'Gradient Boosting')\n",
    "results.append({\n",
    "    'Model': 'Gradient Boosting',\n",
    "    'Hyperparameters': 'n_estimators=100, random_state=42',\n",
    "    'Train_F1': f\"{train_metrics['f1']:.4f}\",\n",
    "    'Val_F1': f\"{val_metrics['f1']:.4f}\",\n",
    "    'Train_AUC': f\"{train_metrics['auc']:.4f}\",\n",
    "    'Val_AUC': f\"{val_metrics['auc']:.4f}\"\n",
    "})"
   ]
  },
  {
   "cell_type": "code",
   "execution_count": 44,
   "id": "8f7648c0",
   "metadata": {},
   "outputs": [
    {
     "name": "stdout",
     "output_type": "stream",
     "text": [
      "{'Model': 'Gradient Boosting', 'Hyperparameters': 'n_estimators=100, random_state=42', 'Train_F1': '0.3761', 'Val_F1': '0.3561', 'Train_AUC': '0.8075', 'Val_AUC': '0.8064'}\n"
     ]
    }
   ],
   "source": [
    "print(results[4])"
   ]
  },
  {
   "cell_type": "markdown",
   "id": "0b1b2bb6",
   "metadata": {},
   "source": [
    "### Conclusion\n",
    "Gradient Boosting yields balanced Train/Val performance (F1 ≈ 0.36, AUC ≈ 0.81), showing good generalization though overall F1 remains modest."
   ]
  },
  {
   "cell_type": "code",
   "execution_count": 46,
   "id": "4f82d370",
   "metadata": {},
   "outputs": [
    {
     "data": {
      "text/html": [
       "<div>\n",
       "<style scoped>\n",
       "    .dataframe tbody tr th:only-of-type {\n",
       "        vertical-align: middle;\n",
       "    }\n",
       "\n",
       "    .dataframe tbody tr th {\n",
       "        vertical-align: top;\n",
       "    }\n",
       "\n",
       "    .dataframe thead th {\n",
       "        text-align: right;\n",
       "    }\n",
       "</style>\n",
       "<table border=\"1\" class=\"dataframe\">\n",
       "  <thead>\n",
       "    <tr style=\"text-align: right;\">\n",
       "      <th></th>\n",
       "      <th>Model</th>\n",
       "      <th>Hyperparameters</th>\n",
       "      <th>Train_F1</th>\n",
       "      <th>Val_F1</th>\n",
       "      <th>Train_AUC</th>\n",
       "      <th>Val_AUC</th>\n",
       "      <th>Comment</th>\n",
       "    </tr>\n",
       "  </thead>\n",
       "  <tbody>\n",
       "    <tr>\n",
       "      <th>0</th>\n",
       "      <td>Logistic Regression</td>\n",
       "      <td>default (C=1.0, max_iter=1000)</td>\n",
       "      <td>0.3390</td>\n",
       "      <td>0.3411</td>\n",
       "      <td>0.7923</td>\n",
       "      <td>0.7969</td>\n",
       "      <td>Good baseline model, interpretable, moderate p...</td>\n",
       "    </tr>\n",
       "    <tr>\n",
       "      <th>1</th>\n",
       "      <td>k-NN (Optimized)</td>\n",
       "      <td>n_neighbors=5, algorithm=ball_tree, subset_siz...</td>\n",
       "      <td>0.4549</td>\n",
       "      <td>0.3447</td>\n",
       "      <td>0.9202</td>\n",
       "      <td>0.7198</td>\n",
       "      <td>Optimized k-NN using 5000 training samples, ba...</td>\n",
       "    </tr>\n",
       "    <tr>\n",
       "      <th>2</th>\n",
       "      <td>k-NN (Optimized)</td>\n",
       "      <td>n_neighbors=5, algorithm=ball_tree, subset_siz...</td>\n",
       "      <td>0.4549</td>\n",
       "      <td>0.3447</td>\n",
       "      <td>0.9202</td>\n",
       "      <td>0.7198</td>\n",
       "      <td>Optimized k-NN using 5000 training samples, ba...</td>\n",
       "    </tr>\n",
       "    <tr>\n",
       "      <th>3</th>\n",
       "      <td>Decision Tree</td>\n",
       "      <td>max_depth=10, random_state=42</td>\n",
       "      <td>0.5085</td>\n",
       "      <td>0.3569</td>\n",
       "      <td>0.8341</td>\n",
       "      <td>0.7535</td>\n",
       "      <td>NaN</td>\n",
       "    </tr>\n",
       "    <tr>\n",
       "      <th>4</th>\n",
       "      <td>Gradient Boosting</td>\n",
       "      <td>n_estimators=100, random_state=42</td>\n",
       "      <td>0.3761</td>\n",
       "      <td>0.3561</td>\n",
       "      <td>0.8075</td>\n",
       "      <td>0.8064</td>\n",
       "      <td>NaN</td>\n",
       "    </tr>\n",
       "  </tbody>\n",
       "</table>\n",
       "</div>"
      ],
      "text/plain": [
       "                 Model                                    Hyperparameters  \\\n",
       "0  Logistic Regression                     default (C=1.0, max_iter=1000)   \n",
       "1     k-NN (Optimized)  n_neighbors=5, algorithm=ball_tree, subset_siz...   \n",
       "2     k-NN (Optimized)  n_neighbors=5, algorithm=ball_tree, subset_siz...   \n",
       "3        Decision Tree                      max_depth=10, random_state=42   \n",
       "4    Gradient Boosting                  n_estimators=100, random_state=42   \n",
       "\n",
       "  Train_F1  Val_F1 Train_AUC Val_AUC  \\\n",
       "0   0.3390  0.3411    0.7923  0.7969   \n",
       "1   0.4549  0.3447    0.9202  0.7198   \n",
       "2   0.4549  0.3447    0.9202  0.7198   \n",
       "3   0.5085  0.3569    0.8341  0.7535   \n",
       "4   0.3761  0.3561    0.8075  0.8064   \n",
       "\n",
       "                                             Comment  \n",
       "0  Good baseline model, interpretable, moderate p...  \n",
       "1  Optimized k-NN using 5000 training samples, ba...  \n",
       "2  Optimized k-NN using 5000 training samples, ba...  \n",
       "3                                                NaN  \n",
       "4                                                NaN  "
      ]
     },
     "execution_count": 46,
     "metadata": {},
     "output_type": "execute_result"
    }
   ],
   "source": [
    "# Create results DataFrame\n",
    "results_df = pd.DataFrame(results)\n",
    "results_df"
   ]
  },
  {
   "cell_type": "markdown",
   "id": "0fa1cc43",
   "metadata": {},
   "source": [
    "## 6. Hyperparameter Tuning for Gradient Boosting"
   ]
  },
  {
   "cell_type": "code",
   "execution_count": 47,
   "id": "f6fbe9dc",
   "metadata": {},
   "outputs": [],
   "source": [
    "# Prepare data for hyperparameter tuning\n",
    "X_train_processed = preprocessor.fit_transform(X_train)\n",
    "X_val_processed = preprocessor.transform(X_val)"
   ]
  },
  {
   "cell_type": "code",
   "execution_count": 48,
   "id": "7839fc82",
   "metadata": {},
   "outputs": [
    {
     "name": "stdout",
     "output_type": "stream",
     "text": [
      "Best parameters (RandomizedSearchCV): {'subsample': 1.0, 'n_estimators': 300, 'min_samples_split': 2, 'min_samples_leaf': 4, 'max_depth': 7, 'learning_rate': 0.1}\n",
      "Best CV score: 0.3799\n"
     ]
    }
   ],
   "source": [
    "# 6.1 RandomizedSearchCV\n",
    "\n",
    "param_dist = {\n",
    "    'n_estimators': [50, 100, 200, 300],\n",
    "    'max_depth': [3, 5, 7, 10],\n",
    "    'learning_rate': [0.01, 0.1, 0.2],\n",
    "    'subsample': [0.8, 0.9, 1.0],\n",
    "    'min_samples_split': [2, 5, 10],\n",
    "    'min_samples_leaf': [1, 2, 4]\n",
    "}\n",
    "\n",
    "gb_random = RandomizedSearchCV(\n",
    "    GradientBoostingClassifier(random_state=42),\n",
    "    param_dist,\n",
    "    n_iter=20,\n",
    "    cv=3,\n",
    "    scoring='f1',\n",
    "    random_state=42,\n",
    "    n_jobs=-1\n",
    ")\n",
    "\n",
    "gb_random.fit(X_train_processed, y_train)\n",
    "\n",
    "print(f\"Best parameters (RandomizedSearchCV): {gb_random.best_params_}\")\n",
    "print(f\"Best CV score: {gb_random.best_score_:.4f}\")"
   ]
  },
  {
   "cell_type": "code",
   "execution_count": 49,
   "id": "72964c62",
   "metadata": {},
   "outputs": [
    {
     "name": "stdout",
     "output_type": "stream",
     "text": [
      "Validation F1 (RandomizedSearchCV): 0.3810\n",
      "Validation AUC (RandomizedSearchCV): 0.7847\n"
     ]
    }
   ],
   "source": [
    "# Evaluate best model from RandomizedSearchCV\n",
    "best_gb_random = gb_random.best_estimator_\n",
    "val_pred_random = best_gb_random.predict(X_val_processed)\n",
    "val_f1_random = f1_score(y_val, val_pred_random)\n",
    "val_auc_random = roc_auc_score(y_val, best_gb_random.predict_proba(X_val_processed)[:, 1])\n",
    "\n",
    "print(f\"Validation F1 (RandomizedSearchCV): {val_f1_random:.4f}\")\n",
    "print(f\"Validation AUC (RandomizedSearchCV): {val_auc_random:.4f}\")"
   ]
  },
  {
   "cell_type": "code",
   "execution_count": 50,
   "id": "d4ca0e5e",
   "metadata": {},
   "outputs": [],
   "source": [
    "# 6.2 Hyperopt Bayesian Optimization\n",
    "\n",
    "def objective(params):\n",
    "    model = GradientBoostingClassifier(\n",
    "        n_estimators=int(params['n_estimators']),\n",
    "        max_depth=int(params['max_depth']),\n",
    "        learning_rate=params['learning_rate'],\n",
    "        subsample=params['subsample'],\n",
    "        min_samples_split=int(params['min_samples_split']),\n",
    "        min_samples_leaf=int(params['min_samples_leaf']),\n",
    "        random_state=42\n",
    "    )\n",
    "    \n",
    "    # Cross-validation\n",
    "    cv_scores = cross_val_score(model, X_train_processed, y_train, cv=3, scoring='f1')\n",
    "    return {'loss': -cv_scores.mean(), 'status': STATUS_OK}"
   ]
  },
  {
   "cell_type": "code",
   "execution_count": null,
   "id": "246922df",
   "metadata": {},
   "outputs": [
    {
     "name": "stdout",
     "output_type": "stream",
     "text": [
      "\r",
      "  0%|                                    | 0/50 [00:00<?, ?trial/s, best loss=?]"
     ]
    }
   ],
   "source": [
    "space = {\n",
    "    'n_estimators': hp.quniform('n_estimators', 50, 300, 50),\n",
    "    'max_depth': hp.quniform('max_depth', 3, 10, 1),\n",
    "    'learning_rate': hp.uniform('learning_rate', 0.01, 0.3),\n",
    "    'subsample': hp.uniform('subsample', 0.7, 1.0),\n",
    "    'min_samples_split': hp.quniform('min_samples_split', 2, 10, 1),\n",
    "    'min_samples_leaf': hp.quniform('min_samples_leaf', 1, 4, 1)\n",
    "}\n",
    "\n",
    "trials = Trials()\n",
    "best_hyperopt = fmin(fn=objective,\n",
    "                    space=space,\n",
    "                    algo=tpe.suggest,\n",
    "                    max_evals=50,\n",
    "                    trials=trials,\n",
    "#                     random_state=42\n",
    "                    )\n",
    "\n",
    "print(f\"Best parameters (Hyperopt): {best_hyperopt}\")"
   ]
  },
  {
   "cell_type": "code",
   "execution_count": null,
   "id": "7b88b149",
   "metadata": {},
   "outputs": [],
   "source": [
    "# Train model with best hyperopt parameters\n",
    "best_gb_hyperopt = GradientBoostingClassifier(\n",
    "    n_estimators=int(best_hyperopt['n_estimators']),\n",
    "    max_depth=int(best_hyperopt['max_depth']),\n",
    "    learning_rate=best_hyperopt['learning_rate'],\n",
    "    subsample=best_hyperopt['subsample'],\n",
    "    min_samples_split=int(best_hyperopt['min_samples_split']),\n",
    "    min_samples_leaf=int(best_hyperopt['min_samples_leaf']),\n",
    "    random_state=42\n",
    ")\n",
    "\n",
    "best_gb_hyperopt.fit(X_train_processed, y_train)\n",
    "val_pred_hyperopt = best_gb_hyperopt.predict(X_val_processed)\n",
    "val_f1_hyperopt = f1_score(y_val, val_pred_hyperopt)\n",
    "val_auc_hyperopt = roc_auc_score(y_val, best_gb_hyperopt.predict_proba(X_val_processed)[:, 1])\n",
    "\n",
    "print(f\"Validation F1 (Hyperopt): {val_f1_hyperopt:.4f}\")\n",
    "print(f\"Validation AUC (Hyperopt): {val_auc_hyperopt:.4f}\")"
   ]
  },
  {
   "cell_type": "code",
   "execution_count": null,
   "id": "993f632a",
   "metadata": {},
   "outputs": [],
   "source": [
    "# Add tuned models to results\n",
    "results.append({\n",
    "    'Model': 'GB - RandomizedSearchCV',\n",
    "    'Hyperparameters': str(gb_random.best_params_),\n",
    "    'Train_F1': f\"{f1_score(y_train, gb_random.best_estimator_.predict(X_train_processed)):.4f}\",\n",
    "    'Val_F1': f\"{val_f1_random:.4f}\",\n",
    "    'Train_AUC': f\"{roc_auc_score(y_train, gb_random.best_estimator_.predict_proba(X_train_processed)[:, 1]):.4f}\",\n",
    "    'Val_AUC': f\"{val_auc_random:.4f}\",\n",
    "    'Comment': 'Tuned with RandomizedSearchCV, good performance'\n",
    "})\n",
    "\n",
    "results.append({\n",
    "    'Model': 'GB - Hyperopt',\n",
    "    'Hyperparameters': str(best_hyperopt),\n",
    "    'Train_F1': f\"{f1_score(y_train, best_gb_hyperopt.predict(X_train_processed)):.4f}\",\n",
    "    'Val_F1': f\"{val_f1_hyperopt:.4f}\",\n",
    "    'Train_AUC': f\"{roc_auc_score(y_train, best_gb_hyperopt.predict_proba(X_train_processed)[:, 1]):.4f}\",\n",
    "    'Val_AUC': f\"{val_auc_hyperopt:.4f}\",\n",
    "    'Comment': 'Tuned with Bayesian Optimization, potentially optimal'\n",
    "})"
   ]
  },
  {
   "cell_type": "markdown",
   "id": "330204c1",
   "metadata": {},
   "source": [
    "## 7. Feature Importance Analysis"
   ]
  },
  {
   "cell_type": "code",
   "execution_count": null,
   "id": "ae6ca70c",
   "metadata": {},
   "outputs": [],
   "source": [
    "# Determine best model based on validation F1 score\n",
    "results_df = pd.DataFrame(results)\n",
    "best_model_idx = results_df['Val_F1'].astype(float).idxmax()\n",
    "best_model_name = results_df.loc[best_model_idx, 'Model']\n",
    "\n",
    "print(f\"Best performing model: {best_model_name}\")"
   ]
  },
  {
   "cell_type": "code",
   "execution_count": null,
   "id": "f44657be",
   "metadata": {},
   "outputs": [],
   "source": [
    "# Use the best performing model for feature importance\n",
    "if 'RandomizedSearchCV' in best_model_name:\n",
    "    best_model = gb_random.best_estimator_\n",
    "elif 'Hyperopt' in best_model_name:\n",
    "    best_model = best_gb_hyperopt\n",
    "else:\n",
    "    # Use the best pipeline model\n",
    "    if best_model_name == 'Gradient Boosting':\n",
    "        best_model = gb_pipeline.named_steps['classifier']\n",
    "        best_model.fit(X_train_processed, y_train)\n",
    "\n",
    "# Get feature names after preprocessing\n",
    "feature_names = numerical_features_final + list(preprocessor.named_transformers_['cat'].get_feature_names_out(categorical_features_final))\n"
   ]
  },
  {
   "cell_type": "code",
   "execution_count": null,
   "id": "4b8009cc",
   "metadata": {},
   "outputs": [],
   "source": [
    "\n",
    "\n",
    "\n",
    "# Feature importance\n",
    "if hasattr(best_model, 'feature_importances_'):\n",
    "    feature_importance = pd.DataFrame({\n",
    "        'feature': feature_names,\n",
    "        'importance': best_model.feature_importances_\n",
    "    }).sort_values('importance', ascending=False)\n",
    "    \n",
    "    print(\"\\n\" + \"=\"*50)\n",
    "    print(\"FEATURE IMPORTANCE ANALYSIS\")\n",
    "    print(\"=\"*50)\n",
    "    print(feature_importance.head(15))\n",
    "    \n",
    "    # Plot feature importance\n",
    "    plt.figure(figsize=(10, 8))\n",
    "    top_features = feature_importance.head(15)\n",
    "    plt.barh(range(len(top_features)), top_features['importance'])\n",
    "    plt.yticks(range(len(top_features)), top_features['feature'])\n",
    "    plt.xlabel('Feature Importance')\n",
    "    plt.title('Top 15 Feature Importances')\n",
    "    plt.gca().invert_yaxis()\n",
    "    plt.tight_layout()\n",
    "    plt.show()\n"
   ]
  },
  {
   "cell_type": "markdown",
   "id": "23e856ef",
   "metadata": {},
   "source": [
    "FEATURE IMPORTANCE COMMON SENSE CHECK:\n",
    "    \n",
    "    Expected high importance features:\n",
    "    - Economic indicators (euribor3m, emp.var.rate, etc.): Economic conditions affect investment decisions\n",
    "    - Previous campaign outcome (poutcome): Past behavior predicts future behavior\n",
    "    - Age: Different age groups have different financial priorities\n",
    "    - Contact type: Some contact methods might be more effective\n",
    "    \n",
    "    The ranking seems reasonable if:\n",
    "    1. Economic indicators are prominent (they affect everyone's financial decisions)\n",
    "    2. Previous campaign results are important (customer behavior consistency)\n",
    "    3. Demographic features (age, job, education) have moderate importance\n",
    "    4. Campaign-specific features (month, day_of_week) have lower importance\n",
    "    \n",
    "    Any unusual rankings would need investigation - e.g., if month is very important,\n",
    "    there might be seasonal investment patterns."
   ]
  },
  {
   "cell_type": "markdown",
   "id": "dd8c6c2e",
   "metadata": {},
   "source": [
    "## 8. SHAP Analysis"
   ]
  },
  {
   "cell_type": "code",
   "execution_count": null,
   "id": "2497a092",
   "metadata": {},
   "outputs": [],
   "source": [
    "# SHAP analysis for best model\n",
    "# Initialize SHAP explainer\n",
    "if hasattr(best_model, 'predict_proba'):\n",
    "    explainer = shap.TreeExplainer(best_model)\n",
    "    shap_values = explainer.shap_values(X_val_processed[:1000])  # Use subset for speed\n",
    "    \n",
    "    # If binary classification, shap_values might be a list\n",
    "    if isinstance(shap_values, list):\n",
    "        shap_values_pos = shap_values[1]  # Positive class\n",
    "    else:\n",
    "        shap_values_pos = shap_values\n",
    "    \n",
    "    # Summary plot\n",
    "    plt.figure(figsize=(10, 8))\n",
    "    shap.summary_plot(shap_values_pos, X_val_processed[:1000], \n",
    "                     feature_names=feature_names, show=False)\n",
    "    plt.title('SHAP Summary Plot - Feature Impact on Predictions')\n",
    "    plt.tight_layout()\n",
    "    plt.show()\n",
    "    \n",
    "    # Feature importance from SHAP\n",
    "    shap_importance = pd.DataFrame({\n",
    "        'feature': feature_names,\n",
    "        'importance': np.abs(shap_values_pos).mean(axis=0)\n",
    "    }).sort_values('importance', ascending=False)\n",
    "    \n",
    "    print(\"\\nSHAP-based Feature Importance:\")\n",
    "    print(shap_importance.head(10))\n",
    "    \n",
    "    # Waterfall plot for a specific prediction\n",
    "    plt.figure(figsize=(10, 6))\n",
    "    shap.waterfall_plot(shap.Explanation(values=shap_values_pos[0], \n",
    "                                        base_values=explainer.expected_value[1] if isinstance(explainer.expected_value, np.ndarray) else explainer.expected_value,\n",
    "                                        data=X_val_processed[0],\n",
    "                                        feature_names=feature_names))\n",
    "    plt.title('SHAP Waterfall Plot - Single Prediction Explanation')\n",
    "    plt.show()"
   ]
  },
  {
   "cell_type": "markdown",
   "id": "27b25efb",
   "metadata": {},
   "source": [
    "## 9. Error Analysis"
   ]
  },
  {
   "cell_type": "code",
   "execution_count": null,
   "id": "33defde9",
   "metadata": {},
   "outputs": [],
   "source": [
    "# Get predictions on validation set\n",
    "val_pred = best_model.predict(X_val_processed)\n",
    "val_proba = best_model.predict_proba(X_val_processed)[:, 1]\n",
    "\n",
    "# Find misclassified examples\n",
    "false_positives = (val_pred == 1) & (y_val == 0)\n",
    "false_negatives = (val_pred == 0) & (y_val == 1)\n",
    "\n",
    "print(f\"False Positives: {false_positives.sum()}\")\n",
    "print(f\"False Negatives: {false_negatives.sum()}\")"
   ]
  },
  {
   "cell_type": "code",
   "execution_count": null,
   "id": "5dac50d5",
   "metadata": {},
   "outputs": [],
   "source": [
    "# Analyze false positives\n",
    "if false_positives.sum() > 0:\n",
    "    fp_data = X_val[false_positives].copy()\n",
    "    fp_data['predicted_proba'] = val_proba[false_positives]\n",
    "    \n",
    "    print(\"\\n\" + \"=\"*50)\n",
    "    print(\"FALSE POSITIVES ANALYSIS\")\n",
    "    print(\"=\"*50)\n",
    "    print(\"Characteristics of clients wrongly predicted to subscribe:\")\n",
    "    \n",
    "    for col in ['age', 'job_grouped', 'education_grouped', 'campaign', 'poutcome']:\n",
    "        if col in fp_data.columns:\n",
    "            print(f\"\\n{col} distribution in false positives:\")\n",
    "            if fp_data[col].dtype == 'object':\n",
    "                print(fp_data[col].value_counts().head())\n",
    "            else:\n",
    "                print(fp_data[col].describe())\n",
    "\n",
    "# Analyze false negatives\n",
    "if false_negatives.sum() > 0:\n",
    "    fn_data = X_val[false_negatives].copy()\n",
    "    fn_data['predicted_proba'] = val_proba[false_negatives]\n",
    "    \n",
    "    print(\"\\n\" + \"=\"*50)\n",
    "    print(\"FALSE NEGATIVES ANALYSIS\")\n",
    "    print(\"=\"*50)\n",
    "    print(\"Characteristics of clients wrongly predicted NOT to subscribe:\")\n",
    "    \n",
    "    for col in ['age', 'job_grouped', 'education_grouped', 'campaign', 'poutcome']:\n",
    "        if col in fn_data.columns:\n",
    "            print(f\"\\n{col} distribution in false negatives:\")\n",
    "            if fn_data[col].dtype == 'object':\n",
    "                print(fn_data[col].value_counts().head())\n",
    "            else:\n",
    "                print(fn_data[col].describe())\n",
    "\n"
   ]
  },
  {
   "cell_type": "code",
   "execution_count": null,
   "id": "ee106266",
   "metadata": {},
   "outputs": [],
   "source": [
    "# Analyze prediction probabilities for misclassified examples\n",
    "fp_probas = val_proba[false_positives]\n",
    "fn_probas = val_proba[false_negatives]\n",
    "\n",
    "print(f\"False Positive probabilities - Mean: {fp_probas.mean():.3f}, Std: {fp_probas.std():.3f}\")\n",
    "print(f\"False Negative probabilities - Mean: {fn_probas.mean():.3f}, Std: {fn_probas.std():.3f}\")"
   ]
  },
  {
   "cell_type": "code",
   "execution_count": null,
   "id": "b8e4bff4",
   "metadata": {},
   "outputs": [],
   "source": [
    "# Plot probability distributions\n",
    "fig, axes = plt.subplots(1, 2, figsize=(15, 5))\n",
    "\n",
    "axes[0].hist(val_proba[y_val == 0], bins=30, alpha=0.7, label='True Negatives', color='blue')\n",
    "axes[0].hist(val_proba[false_positives], bins=30, alpha=0.7, label='False Positives', color='red')\n",
    "axes[0].set_xlabel('Predicted Probability')\n",
    "axes[0].set_ylabel('Frequency')\n",
    "axes[0].set_title('Probability Distribution: Actual Non-subscribers')\n",
    "axes[0].legend()\n",
    "\n",
    "axes[1].hist(val_proba[y_val == 1], bins=30, alpha=0.7, label='True Positives', color='green')\n",
    "axes[1].hist(val_proba[false_negatives], bins=30, alpha=0.7, label='False Negatives', color='orange')\n",
    "axes[1].set_xlabel('Predicted Probability')\n",
    "axes[1].set_ylabel('Frequency')\n",
    "axes[1].set_title('Probability Distribution: Actual Subscribers')\n",
    "axes[1].legend()\n",
    "\n",
    "plt.tight_layout()\n",
    "plt.show()"
   ]
  },
  {
   "cell_type": "markdown",
   "id": "cf875770",
   "metadata": {},
   "source": [
    "## 10. Improvement Recommendations"
   ]
  },
  {
   "cell_type": "markdown",
   "id": "bf80c39a",
   "metadata": {},
   "source": [
    "Based on the error analysis, here are recommendations to improve the model:\n",
    "\n",
    "1. FEATURE ENGINEERING:\n",
    "   - Create interaction features between economic indicators and demographic variables\n",
    "   - Engineer time-based features (e.g., time since last economic crisis)\n",
    "   - Create customer lifetime value features based on previous interactions\n",
    "   - Develop risk profiling features combining multiple categorical variables\n",
    "\n",
    "2. DATA COLLECTION:\n",
    "   - Collect more granular timing information (time of day for calls)\n",
    "   - Include external economic sentiment data\n",
    "   - Add customer financial health indicators (if legally permissible)\n",
    "   - Include competitor activity data\n",
    "\n",
    "3. MODEL IMPROVEMENTS:\n",
    "   - Try advanced ensemble methods (XGBoost, LightGBM, CatBoost)\n",
    "   - Implement stacking/blending of multiple models\n",
    "   - Use neural networks with embedding layers for categorical features\n",
    "   - Try cost-sensitive learning to address class imbalance\n",
    "\n",
    "4. THRESHOLD OPTIMIZATION:\n",
    "   - Optimize prediction threshold based on business costs\n",
    "   - Implement different thresholds for different customer segments\n",
    "   - Use precision-recall curve analysis for threshold selection\n",
    "\n",
    "5. HANDLING CLASS IMBALANCE:\n",
    "   - Try SMOTE or other oversampling techniques\n",
    "   - Implement undersampling of majority class\n",
    "   - Use ensemble methods designed for imbalanced data\n",
    "   - Apply different class weights in model training\n",
    "\n",
    "6. BUSINESS LOGIC INTEGRATION:\n",
    "   - Incorporate business rules (e.g., don't call customers who recently subscribed)\n",
    "   - Add customer fatigue models (reduce probability after multiple calls)\n",
    "   - Implement seasonal adjustment factors\n",
    "\n",
    "7. MODEL VALIDATION:\n",
    "   - Use time-based cross-validation if data has temporal structure\n",
    "   - Implement A/B testing framework for model deployment\n",
    "   - Add model drift detection and retraining pipelines\n",
    "\n",
    "8. INTERPRETATION & EXPLAINABILITY:\n",
    "   - Develop customer-specific explanation reports\n",
    "   - Create simplified decision trees for business users\n",
    "   - Implement LIME for local explanations\n"
   ]
  },
  {
   "cell_type": "markdown",
   "id": "f64d2f82",
   "metadata": {},
   "source": [
    "## 11. Final Model Evaluation on Test Set"
   ]
  },
  {
   "cell_type": "code",
   "execution_count": null,
   "id": "8474f656",
   "metadata": {},
   "outputs": [],
   "source": [
    "X_test_processed = preprocessor.transform(X_test)\n",
    "test_pred = best_model.predict(X_test_processed)\n",
    "test_proba = best_model.predict_proba(X_test_processed)[:, 1]"
   ]
  },
  {
   "cell_type": "code",
   "execution_count": null,
   "id": "c705cf9e",
   "metadata": {},
   "outputs": [],
   "source": [
    "# Calculate all metrics\n",
    "test_metrics = {\n",
    "    'Accuracy': accuracy_score(y_test, test_pred),\n",
    "    'Precision': precision_score(y_test, test_pred),\n",
    "    'Recall': recall_score(y_test, test_pred),\n",
    "    'F1-Score': f1_score(y_test, test_pred),\n",
    "    'ROC-AUC': roc_auc_score(y_test, test_proba)\n",
    "}\n",
    "\n",
    "print(f\"Best Model: {best_model_name}\")\n",
    "print(\"-\" * 30)\n",
    "for metric, value in test_metrics.items():\n",
    "    print(f\"{metric}: {value:.4f}\")"
   ]
  },
  {
   "cell_type": "code",
   "execution_count": null,
   "id": "b7b0303f",
   "metadata": {},
   "outputs": [],
   "source": [
    "# Confusion matrix\n",
    "cm = confusion_matrix(y_test, test_pred)\n",
    "plt.figure(figsize=(8, 6))\n",
    "sns.heatmap(cm, annot=True, fmt='d', cmap='Blues', \n",
    "           xticklabels=['No', 'Yes'], yticklabels=['No', 'Yes'])\n",
    "plt.title('Confusion Matrix - Test Set')\n",
    "plt.ylabel('True Label')\n",
    "plt.xlabel('Predicted Label')\n",
    "plt.show()"
   ]
  },
  {
   "cell_type": "code",
   "execution_count": null,
   "id": "93f7c4b1",
   "metadata": {},
   "outputs": [],
   "source": [
    "# Classification report\n",
    "print(\"Detailed Classification Report:\")\n",
    "print(classification_report(y_test, test_pred, target_names=['No', 'Yes']))"
   ]
  },
  {
   "cell_type": "markdown",
   "id": "4ae001cd",
   "metadata": {},
   "source": [
    "## 12. Business Impact Analysis"
   ]
  },
  {
   "cell_type": "code",
   "execution_count": null,
   "id": "d170504a",
   "metadata": {},
   "outputs": [],
   "source": [
    "# Calculate business metrics\n",
    "total_customers = len(y_test)\n",
    "actual_subscribers = y_test.sum()\n",
    "predicted_subscribers = test_pred.sum()\n",
    "true_positives = ((test_pred == 1) & (y_test == 1)).sum()\n",
    "false_positives = ((test_pred == 1) & (y_test == 0)).sum()\n",
    "\n",
    "# Assume some business values (these would come from domain experts)\n",
    "cost_per_call = 5  # Cost to make a marketing call\n",
    "revenue_per_subscription = 200  # Revenue from each subscription\n",
    "marketing_budget = total_customers * cost_per_call\n",
    "\n",
    "# Business metrics\n",
    "precision_rate = true_positives / predicted_subscribers if predicted_subscribers > 0 else 0\n",
    "recall_rate = true_positives / actual_subscribers if actual_subscribers > 0 else 0\n",
    "\n",
    "# Financial impact\n",
    "current_revenue = true_positives * revenue_per_subscription\n",
    "current_cost = predicted_subscribers * cost_per_call\n",
    "current_profit = current_revenue - current_cost\n",
    "\n",
    "# Baseline (call everyone)\n",
    "baseline_revenue = actual_subscribers * revenue_per_subscription\n",
    "baseline_cost = total_customers * cost_per_call\n",
    "baseline_profit = baseline_revenue - baseline_cost\n",
    "\n",
    "print(f\"Model Performance:\")\n",
    "print(f\"  - Customers to call: {predicted_subscribers} ({predicted_subscribers/total_customers*100:.1f}% of total)\")\n",
    "print(f\"  - Expected subscriptions: {true_positives} ({precision_rate*100:.1f}% success rate)\")\n",
    "print(f\"  - Subscriptions captured: {recall_rate*100:.1f}% of all potential subscribers\")\n",
    "\n",
    "print(f\"\\nFinancial Impact:\")\n",
    "print(f\"  - Model profit: ${current_profit:,.2f}\")\n",
    "print(f\"  - Baseline profit (call everyone): ${baseline_profit:,.2f}\")\n",
    "print(f\"  - Profit improvement: ${current_profit - baseline_profit:,.2f}\")\n",
    "print(f\"  - Cost reduction: ${baseline_cost - current_cost:,.2f} ({(baseline_cost - current_cost)/baseline_cost*100:.1f}%)\")\n"
   ]
  },
  {
   "cell_type": "markdown",
   "id": "1a1c8acf",
   "metadata": {},
   "source": [
    "## 13. Final Results Summary"
   ]
  },
  {
   "cell_type": "code",
   "execution_count": null,
   "id": "3ee2a2e1",
   "metadata": {},
   "outputs": [],
   "source": [
    "print(\"Model Comparison Table:\")\n",
    "print(final_results.to_string(index=False, max_colwidth=50))\n",
    "\n",
    "print(f\" BEST PERFORMING MODEL: {best_model_name}\")\n",
    "print(f\" Best Validation F1-Score: {final_results['Val_F1'].astype(float).max():.4f}\")\n",
    "print(f\" Test Set F1-Score: {test_metrics['F1-Score']:.4f}\")\n",
    "print(f\" Test Set ROC-AUC: {test_metrics['ROC-AUC']:.4f}\")"
   ]
  },
  {
   "cell_type": "code",
   "execution_count": null,
   "id": "5b06c7ee",
   "metadata": {},
   "outputs": [],
   "source": [
    "print(\"\\n\" + \"=\"*80)\n",
    "print(\"PROJECT CONCLUSIONS\")\n",
    "print(\"=\"*80)\n",
    "\n",
    "conclusions = \"\"\"\n",
    "✅ ACHIEVEMENTS:\n",
    "1. Successfully built and compared 4 different ML models for bank marketing prediction\n",
    "2. Implemented comprehensive data preprocessing with feature engineering\n",
    "3. Performed hyperparameter tuning using both RandomizedSearchCV and Bayesian Optimization\n",
    "4. Conducted thorough error analysis and provided actionable improvement recommendations\n",
    "5. Achieved reasonable performance on imbalanced dataset\n",
    "\n",
    "🔍 KEY INSIGHTS:\n",
    "1. Economic indicators are highly predictive of subscription behavior\n",
    "2. Previous campaign outcomes strongly influence current campaign success\n",
    "3. Call duration is highly predictive but shouldn't be used in practice (known after outcome)\n",
    "4. Demographic features provide moderate predictive power\n",
    "5. Class imbalance remains a challenge requiring specialized techniques\n",
    "\n",
    "📈 BUSINESS VALUE:\n",
    "- Model can significantly reduce marketing costs by targeting likely subscribers\n",
    "- Improved precision reduces wasted calls to unlikely subscribers\n",
    "- Maintained reasonable recall to capture most potential subscribers\n",
    "- Framework established for continuous model improvement and monitoring\n",
    "\n",
    "🚀 NEXT STEPS:\n",
    "1. Deploy model in A/B testing framework\n",
    "2. Implement real-time prediction pipeline\n",
    "3. Add model monitoring and drift detection\n",
    "4. Collect additional features based on recommendations\n",
    "5. Experiment with advanced ensemble methods and neural networks\n",
    "\"\"\"\n",
    "\n",
    "print(conclusions)\n",
    "\n",
    "print(\"\\n🎯 Model is ready for production deployment with proper monitoring!\")\n",
    "```\n",
    "\n"
   ]
  },
  {
   "cell_type": "code",
   "execution_count": null,
   "id": "cf1c52f2",
   "metadata": {},
   "outputs": [],
   "source": []
  }
 ],
 "metadata": {
  "kernelspec": {
   "display_name": "Python 3 (ipykernel)",
   "language": "python",
   "name": "python3"
  },
  "language_info": {
   "codemirror_mode": {
    "name": "ipython",
    "version": 3
   },
   "file_extension": ".py",
   "mimetype": "text/x-python",
   "name": "python",
   "nbconvert_exporter": "python",
   "pygments_lexer": "ipython3",
   "version": "3.10.12"
  }
 },
 "nbformat": 4,
 "nbformat_minor": 5
}
